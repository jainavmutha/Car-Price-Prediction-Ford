{
  "cells": [
    {
      "cell_type": "code",
      "execution_count": null,
      "id": "e3047e39",
      "metadata": {
        "execution": {
          "iopub.execute_input": "2023-07-26T11:45:38.896828Z",
          "iopub.status.busy": "2023-07-26T11:45:38.896061Z",
          "iopub.status.idle": "2023-07-26T11:45:40.772102Z",
          "shell.execute_reply": "2023-07-26T11:45:40.771178Z"
        },
        "papermill": {
          "duration": 1.890321,
          "end_time": "2023-07-26T11:45:40.774450",
          "exception": false,
          "start_time": "2023-07-26T11:45:38.884129",
          "status": "completed"
        },
        "tags": [],
        "colab": {
          "base_uri": "https://localhost:8080/",
          "height": 419
        },
        "id": "e3047e39",
        "outputId": "2dffdbca-a20e-4d07-9a84-ff510f46a3c6"
      },
      "outputs": [
        {
          "output_type": "execute_result",
          "data": {
            "text/plain": [
              "         model  year  price transmission  mileage fuelType  tax   mpg  \\\n",
              "0       Fiesta  2017  12000    Automatic    15944   Petrol  150  57.7   \n",
              "1        Focus  2018  14000       Manual     9083   Petrol  150  57.7   \n",
              "2        Focus  2017  13000       Manual    12456   Petrol  150  57.7   \n",
              "3       Fiesta  2019  17500       Manual    10460   Petrol  145  40.3   \n",
              "4       Fiesta  2019  16500    Automatic     1482   Petrol  145  48.7   \n",
              "...        ...   ...    ...          ...      ...      ...  ...   ...   \n",
              "17961    B-MAX  2017   8999       Manual    16700   Petrol  150  47.1   \n",
              "17962    B-MAX  2014   7499       Manual    40700   Petrol   30  57.7   \n",
              "17963    Focus  2015   9999       Manual     7010   Diesel   20  67.3   \n",
              "17964       KA  2018   8299       Manual     5007   Petrol  145  57.7   \n",
              "17965    Focus  2015   8299       Manual     5007   Petrol   22  57.7   \n",
              "\n",
              "       engineSize  \n",
              "0             1.0  \n",
              "1             1.0  \n",
              "2             1.0  \n",
              "3             1.5  \n",
              "4             1.0  \n",
              "...           ...  \n",
              "17961         1.4  \n",
              "17962         1.0  \n",
              "17963         1.6  \n",
              "17964         1.2  \n",
              "17965         1.0  \n",
              "\n",
              "[17966 rows x 9 columns]"
            ],
            "text/html": [
              "\n",
              "  <div id=\"df-b3bda8dd-03ab-4b68-981d-f19c1449d01e\" class=\"colab-df-container\">\n",
              "    <div>\n",
              "<style scoped>\n",
              "    .dataframe tbody tr th:only-of-type {\n",
              "        vertical-align: middle;\n",
              "    }\n",
              "\n",
              "    .dataframe tbody tr th {\n",
              "        vertical-align: top;\n",
              "    }\n",
              "\n",
              "    .dataframe thead th {\n",
              "        text-align: right;\n",
              "    }\n",
              "</style>\n",
              "<table border=\"1\" class=\"dataframe\">\n",
              "  <thead>\n",
              "    <tr style=\"text-align: right;\">\n",
              "      <th></th>\n",
              "      <th>model</th>\n",
              "      <th>year</th>\n",
              "      <th>price</th>\n",
              "      <th>transmission</th>\n",
              "      <th>mileage</th>\n",
              "      <th>fuelType</th>\n",
              "      <th>tax</th>\n",
              "      <th>mpg</th>\n",
              "      <th>engineSize</th>\n",
              "    </tr>\n",
              "  </thead>\n",
              "  <tbody>\n",
              "    <tr>\n",
              "      <th>0</th>\n",
              "      <td>Fiesta</td>\n",
              "      <td>2017</td>\n",
              "      <td>12000</td>\n",
              "      <td>Automatic</td>\n",
              "      <td>15944</td>\n",
              "      <td>Petrol</td>\n",
              "      <td>150</td>\n",
              "      <td>57.7</td>\n",
              "      <td>1.0</td>\n",
              "    </tr>\n",
              "    <tr>\n",
              "      <th>1</th>\n",
              "      <td>Focus</td>\n",
              "      <td>2018</td>\n",
              "      <td>14000</td>\n",
              "      <td>Manual</td>\n",
              "      <td>9083</td>\n",
              "      <td>Petrol</td>\n",
              "      <td>150</td>\n",
              "      <td>57.7</td>\n",
              "      <td>1.0</td>\n",
              "    </tr>\n",
              "    <tr>\n",
              "      <th>2</th>\n",
              "      <td>Focus</td>\n",
              "      <td>2017</td>\n",
              "      <td>13000</td>\n",
              "      <td>Manual</td>\n",
              "      <td>12456</td>\n",
              "      <td>Petrol</td>\n",
              "      <td>150</td>\n",
              "      <td>57.7</td>\n",
              "      <td>1.0</td>\n",
              "    </tr>\n",
              "    <tr>\n",
              "      <th>3</th>\n",
              "      <td>Fiesta</td>\n",
              "      <td>2019</td>\n",
              "      <td>17500</td>\n",
              "      <td>Manual</td>\n",
              "      <td>10460</td>\n",
              "      <td>Petrol</td>\n",
              "      <td>145</td>\n",
              "      <td>40.3</td>\n",
              "      <td>1.5</td>\n",
              "    </tr>\n",
              "    <tr>\n",
              "      <th>4</th>\n",
              "      <td>Fiesta</td>\n",
              "      <td>2019</td>\n",
              "      <td>16500</td>\n",
              "      <td>Automatic</td>\n",
              "      <td>1482</td>\n",
              "      <td>Petrol</td>\n",
              "      <td>145</td>\n",
              "      <td>48.7</td>\n",
              "      <td>1.0</td>\n",
              "    </tr>\n",
              "    <tr>\n",
              "      <th>...</th>\n",
              "      <td>...</td>\n",
              "      <td>...</td>\n",
              "      <td>...</td>\n",
              "      <td>...</td>\n",
              "      <td>...</td>\n",
              "      <td>...</td>\n",
              "      <td>...</td>\n",
              "      <td>...</td>\n",
              "      <td>...</td>\n",
              "    </tr>\n",
              "    <tr>\n",
              "      <th>17961</th>\n",
              "      <td>B-MAX</td>\n",
              "      <td>2017</td>\n",
              "      <td>8999</td>\n",
              "      <td>Manual</td>\n",
              "      <td>16700</td>\n",
              "      <td>Petrol</td>\n",
              "      <td>150</td>\n",
              "      <td>47.1</td>\n",
              "      <td>1.4</td>\n",
              "    </tr>\n",
              "    <tr>\n",
              "      <th>17962</th>\n",
              "      <td>B-MAX</td>\n",
              "      <td>2014</td>\n",
              "      <td>7499</td>\n",
              "      <td>Manual</td>\n",
              "      <td>40700</td>\n",
              "      <td>Petrol</td>\n",
              "      <td>30</td>\n",
              "      <td>57.7</td>\n",
              "      <td>1.0</td>\n",
              "    </tr>\n",
              "    <tr>\n",
              "      <th>17963</th>\n",
              "      <td>Focus</td>\n",
              "      <td>2015</td>\n",
              "      <td>9999</td>\n",
              "      <td>Manual</td>\n",
              "      <td>7010</td>\n",
              "      <td>Diesel</td>\n",
              "      <td>20</td>\n",
              "      <td>67.3</td>\n",
              "      <td>1.6</td>\n",
              "    </tr>\n",
              "    <tr>\n",
              "      <th>17964</th>\n",
              "      <td>KA</td>\n",
              "      <td>2018</td>\n",
              "      <td>8299</td>\n",
              "      <td>Manual</td>\n",
              "      <td>5007</td>\n",
              "      <td>Petrol</td>\n",
              "      <td>145</td>\n",
              "      <td>57.7</td>\n",
              "      <td>1.2</td>\n",
              "    </tr>\n",
              "    <tr>\n",
              "      <th>17965</th>\n",
              "      <td>Focus</td>\n",
              "      <td>2015</td>\n",
              "      <td>8299</td>\n",
              "      <td>Manual</td>\n",
              "      <td>5007</td>\n",
              "      <td>Petrol</td>\n",
              "      <td>22</td>\n",
              "      <td>57.7</td>\n",
              "      <td>1.0</td>\n",
              "    </tr>\n",
              "  </tbody>\n",
              "</table>\n",
              "<p>17966 rows × 9 columns</p>\n",
              "</div>\n",
              "    <div class=\"colab-df-buttons\">\n",
              "\n",
              "  <div class=\"colab-df-container\">\n",
              "    <button class=\"colab-df-convert\" onclick=\"convertToInteractive('df-b3bda8dd-03ab-4b68-981d-f19c1449d01e')\"\n",
              "            title=\"Convert this dataframe to an interactive table.\"\n",
              "            style=\"display:none;\">\n",
              "\n",
              "  <svg xmlns=\"http://www.w3.org/2000/svg\" height=\"24px\" viewBox=\"0 -960 960 960\">\n",
              "    <path d=\"M120-120v-720h720v720H120Zm60-500h600v-160H180v160Zm220 220h160v-160H400v160Zm0 220h160v-160H400v160ZM180-400h160v-160H180v160Zm440 0h160v-160H620v160ZM180-180h160v-160H180v160Zm440 0h160v-160H620v160Z\"/>\n",
              "  </svg>\n",
              "    </button>\n",
              "\n",
              "  <style>\n",
              "    .colab-df-container {\n",
              "      display:flex;\n",
              "      gap: 12px;\n",
              "    }\n",
              "\n",
              "    .colab-df-convert {\n",
              "      background-color: #E8F0FE;\n",
              "      border: none;\n",
              "      border-radius: 50%;\n",
              "      cursor: pointer;\n",
              "      display: none;\n",
              "      fill: #1967D2;\n",
              "      height: 32px;\n",
              "      padding: 0 0 0 0;\n",
              "      width: 32px;\n",
              "    }\n",
              "\n",
              "    .colab-df-convert:hover {\n",
              "      background-color: #E2EBFA;\n",
              "      box-shadow: 0px 1px 2px rgba(60, 64, 67, 0.3), 0px 1px 3px 1px rgba(60, 64, 67, 0.15);\n",
              "      fill: #174EA6;\n",
              "    }\n",
              "\n",
              "    .colab-df-buttons div {\n",
              "      margin-bottom: 4px;\n",
              "    }\n",
              "\n",
              "    [theme=dark] .colab-df-convert {\n",
              "      background-color: #3B4455;\n",
              "      fill: #D2E3FC;\n",
              "    }\n",
              "\n",
              "    [theme=dark] .colab-df-convert:hover {\n",
              "      background-color: #434B5C;\n",
              "      box-shadow: 0px 1px 3px 1px rgba(0, 0, 0, 0.15);\n",
              "      filter: drop-shadow(0px 1px 2px rgba(0, 0, 0, 0.3));\n",
              "      fill: #FFFFFF;\n",
              "    }\n",
              "  </style>\n",
              "\n",
              "    <script>\n",
              "      const buttonEl =\n",
              "        document.querySelector('#df-b3bda8dd-03ab-4b68-981d-f19c1449d01e button.colab-df-convert');\n",
              "      buttonEl.style.display =\n",
              "        google.colab.kernel.accessAllowed ? 'block' : 'none';\n",
              "\n",
              "      async function convertToInteractive(key) {\n",
              "        const element = document.querySelector('#df-b3bda8dd-03ab-4b68-981d-f19c1449d01e');\n",
              "        const dataTable =\n",
              "          await google.colab.kernel.invokeFunction('convertToInteractive',\n",
              "                                                    [key], {});\n",
              "        if (!dataTable) return;\n",
              "\n",
              "        const docLinkHtml = 'Like what you see? Visit the ' +\n",
              "          '<a target=\"_blank\" href=https://colab.research.google.com/notebooks/data_table.ipynb>data table notebook</a>'\n",
              "          + ' to learn more about interactive tables.';\n",
              "        element.innerHTML = '';\n",
              "        dataTable['output_type'] = 'display_data';\n",
              "        await google.colab.output.renderOutput(dataTable, element);\n",
              "        const docLink = document.createElement('div');\n",
              "        docLink.innerHTML = docLinkHtml;\n",
              "        element.appendChild(docLink);\n",
              "      }\n",
              "    </script>\n",
              "  </div>\n",
              "\n",
              "\n",
              "<div id=\"df-17a857db-e1ee-4494-bfbf-f83cec6450dc\">\n",
              "  <button class=\"colab-df-quickchart\" onclick=\"quickchart('df-17a857db-e1ee-4494-bfbf-f83cec6450dc')\"\n",
              "            title=\"Suggest charts\"\n",
              "            style=\"display:none;\">\n",
              "\n",
              "<svg xmlns=\"http://www.w3.org/2000/svg\" height=\"24px\"viewBox=\"0 0 24 24\"\n",
              "     width=\"24px\">\n",
              "    <g>\n",
              "        <path d=\"M19 3H5c-1.1 0-2 .9-2 2v14c0 1.1.9 2 2 2h14c1.1 0 2-.9 2-2V5c0-1.1-.9-2-2-2zM9 17H7v-7h2v7zm4 0h-2V7h2v10zm4 0h-2v-4h2v4z\"/>\n",
              "    </g>\n",
              "</svg>\n",
              "  </button>\n",
              "\n",
              "<style>\n",
              "  .colab-df-quickchart {\n",
              "      --bg-color: #E8F0FE;\n",
              "      --fill-color: #1967D2;\n",
              "      --hover-bg-color: #E2EBFA;\n",
              "      --hover-fill-color: #174EA6;\n",
              "      --disabled-fill-color: #AAA;\n",
              "      --disabled-bg-color: #DDD;\n",
              "  }\n",
              "\n",
              "  [theme=dark] .colab-df-quickchart {\n",
              "      --bg-color: #3B4455;\n",
              "      --fill-color: #D2E3FC;\n",
              "      --hover-bg-color: #434B5C;\n",
              "      --hover-fill-color: #FFFFFF;\n",
              "      --disabled-bg-color: #3B4455;\n",
              "      --disabled-fill-color: #666;\n",
              "  }\n",
              "\n",
              "  .colab-df-quickchart {\n",
              "    background-color: var(--bg-color);\n",
              "    border: none;\n",
              "    border-radius: 50%;\n",
              "    cursor: pointer;\n",
              "    display: none;\n",
              "    fill: var(--fill-color);\n",
              "    height: 32px;\n",
              "    padding: 0;\n",
              "    width: 32px;\n",
              "  }\n",
              "\n",
              "  .colab-df-quickchart:hover {\n",
              "    background-color: var(--hover-bg-color);\n",
              "    box-shadow: 0 1px 2px rgba(60, 64, 67, 0.3), 0 1px 3px 1px rgba(60, 64, 67, 0.15);\n",
              "    fill: var(--button-hover-fill-color);\n",
              "  }\n",
              "\n",
              "  .colab-df-quickchart-complete:disabled,\n",
              "  .colab-df-quickchart-complete:disabled:hover {\n",
              "    background-color: var(--disabled-bg-color);\n",
              "    fill: var(--disabled-fill-color);\n",
              "    box-shadow: none;\n",
              "  }\n",
              "\n",
              "  .colab-df-spinner {\n",
              "    border: 2px solid var(--fill-color);\n",
              "    border-color: transparent;\n",
              "    border-bottom-color: var(--fill-color);\n",
              "    animation:\n",
              "      spin 1s steps(1) infinite;\n",
              "  }\n",
              "\n",
              "  @keyframes spin {\n",
              "    0% {\n",
              "      border-color: transparent;\n",
              "      border-bottom-color: var(--fill-color);\n",
              "      border-left-color: var(--fill-color);\n",
              "    }\n",
              "    20% {\n",
              "      border-color: transparent;\n",
              "      border-left-color: var(--fill-color);\n",
              "      border-top-color: var(--fill-color);\n",
              "    }\n",
              "    30% {\n",
              "      border-color: transparent;\n",
              "      border-left-color: var(--fill-color);\n",
              "      border-top-color: var(--fill-color);\n",
              "      border-right-color: var(--fill-color);\n",
              "    }\n",
              "    40% {\n",
              "      border-color: transparent;\n",
              "      border-right-color: var(--fill-color);\n",
              "      border-top-color: var(--fill-color);\n",
              "    }\n",
              "    60% {\n",
              "      border-color: transparent;\n",
              "      border-right-color: var(--fill-color);\n",
              "    }\n",
              "    80% {\n",
              "      border-color: transparent;\n",
              "      border-right-color: var(--fill-color);\n",
              "      border-bottom-color: var(--fill-color);\n",
              "    }\n",
              "    90% {\n",
              "      border-color: transparent;\n",
              "      border-bottom-color: var(--fill-color);\n",
              "    }\n",
              "  }\n",
              "</style>\n",
              "\n",
              "  <script>\n",
              "    async function quickchart(key) {\n",
              "      const quickchartButtonEl =\n",
              "        document.querySelector('#' + key + ' button');\n",
              "      quickchartButtonEl.disabled = true;  // To prevent multiple clicks.\n",
              "      quickchartButtonEl.classList.add('colab-df-spinner');\n",
              "      try {\n",
              "        const charts = await google.colab.kernel.invokeFunction(\n",
              "            'suggestCharts', [key], {});\n",
              "      } catch (error) {\n",
              "        console.error('Error during call to suggestCharts:', error);\n",
              "      }\n",
              "      quickchartButtonEl.classList.remove('colab-df-spinner');\n",
              "      quickchartButtonEl.classList.add('colab-df-quickchart-complete');\n",
              "    }\n",
              "    (() => {\n",
              "      let quickchartButtonEl =\n",
              "        document.querySelector('#df-17a857db-e1ee-4494-bfbf-f83cec6450dc button');\n",
              "      quickchartButtonEl.style.display =\n",
              "        google.colab.kernel.accessAllowed ? 'block' : 'none';\n",
              "    })();\n",
              "  </script>\n",
              "</div>\n",
              "    </div>\n",
              "  </div>\n"
            ]
          },
          "metadata": {},
          "execution_count": 14
        }
      ],
      "source": [
        "import pandas as pd\n",
        "import numpy as np\n",
        "import seaborn as sns\n",
        "import matplotlib.pyplot as plt\n",
        "import plotly.graph_objects as go\n",
        "import warnings\n",
        "warnings.filterwarnings('ignore')\n",
        "from sklearn.preprocessing import LabelEncoder\n",
        "from sklearn.preprocessing import MinMaxScaler\n",
        "from sklearn.model_selection import train_test_split\n",
        "from sklearn.linear_model import LinearRegression\n",
        "from sklearn.ensemble import RandomForestRegressor\n",
        "from sklearn.ensemble import AdaBoostRegressor\n",
        "from sklearn.ensemble import GradientBoostingRegressor\n",
        "from xgboost import XGBRegressor\n",
        "from sklearn.metrics import mean_absolute_error,mean_squared_error, r2_score\n",
        "df=pd.read_csv('/content/ford 2.csv')\n",
        "df"
      ]
    },
    {
      "cell_type": "markdown",
      "id": "a7ff9505",
      "metadata": {
        "papermill": {
          "duration": 0.010252,
          "end_time": "2023-07-26T11:45:40.795341",
          "exception": false,
          "start_time": "2023-07-26T11:45:40.785089",
          "status": "completed"
        },
        "tags": [],
        "id": "a7ff9505"
      },
      "source": [
        "**Data Preprocessing**"
      ]
    },
    {
      "cell_type": "code",
      "execution_count": null,
      "id": "832ae210",
      "metadata": {
        "execution": {
          "iopub.execute_input": "2023-07-26T11:45:40.816827Z",
          "iopub.status.busy": "2023-07-26T11:45:40.816476Z",
          "iopub.status.idle": "2023-07-26T11:45:40.824724Z",
          "shell.execute_reply": "2023-07-26T11:45:40.823805Z"
        },
        "papermill": {
          "duration": 0.021295,
          "end_time": "2023-07-26T11:45:40.826739",
          "exception": false,
          "start_time": "2023-07-26T11:45:40.805444",
          "status": "completed"
        },
        "tags": [],
        "colab": {
          "base_uri": "https://localhost:8080/"
        },
        "id": "832ae210",
        "outputId": "40a6e39f-0143-48f7-b121-0590219fce8f"
      },
      "outputs": [
        {
          "output_type": "execute_result",
          "data": {
            "text/plain": [
              "model            object\n",
              "year              int64\n",
              "price             int64\n",
              "transmission     object\n",
              "mileage           int64\n",
              "fuelType         object\n",
              "tax               int64\n",
              "mpg             float64\n",
              "engineSize      float64\n",
              "dtype: object"
            ]
          },
          "metadata": {},
          "execution_count": 15
        }
      ],
      "source": [
        "df.dtypes"
      ]
    },
    {
      "cell_type": "code",
      "execution_count": null,
      "id": "e8fbb477",
      "metadata": {
        "execution": {
          "iopub.execute_input": "2023-07-26T11:45:40.850029Z",
          "iopub.status.busy": "2023-07-26T11:45:40.849680Z",
          "iopub.status.idle": "2023-07-26T11:45:40.872386Z",
          "shell.execute_reply": "2023-07-26T11:45:40.871477Z"
        },
        "papermill": {
          "duration": 0.036005,
          "end_time": "2023-07-26T11:45:40.874420",
          "exception": false,
          "start_time": "2023-07-26T11:45:40.838415",
          "status": "completed"
        },
        "tags": [],
        "colab": {
          "base_uri": "https://localhost:8080/"
        },
        "id": "e8fbb477",
        "outputId": "4a8e7d32-bffe-4239-fff4-5157833ef2e0"
      },
      "outputs": [
        {
          "output_type": "execute_result",
          "data": {
            "text/plain": [
              "model           0\n",
              "year            0\n",
              "price           0\n",
              "transmission    0\n",
              "mileage         0\n",
              "fuelType        0\n",
              "tax             0\n",
              "mpg             0\n",
              "engineSize      0\n",
              "dtype: int64"
            ]
          },
          "metadata": {},
          "execution_count": 16
        }
      ],
      "source": [
        "df.isna().sum()"
      ]
    },
    {
      "cell_type": "code",
      "execution_count": null,
      "id": "00bdb8f3",
      "metadata": {
        "execution": {
          "iopub.execute_input": "2023-07-26T11:45:40.897118Z",
          "iopub.status.busy": "2023-07-26T11:45:40.896448Z",
          "iopub.status.idle": "2023-07-26T11:45:40.916118Z",
          "shell.execute_reply": "2023-07-26T11:45:40.915177Z"
        },
        "papermill": {
          "duration": 0.033351,
          "end_time": "2023-07-26T11:45:40.918160",
          "exception": false,
          "start_time": "2023-07-26T11:45:40.884809",
          "status": "completed"
        },
        "tags": [],
        "colab": {
          "base_uri": "https://localhost:8080/"
        },
        "id": "00bdb8f3",
        "outputId": "5a95b7b5-3ac1-4efb-b540-c04c846307de"
      },
      "outputs": [
        {
          "output_type": "execute_result",
          "data": {
            "text/plain": [
              "154"
            ]
          },
          "metadata": {},
          "execution_count": 17
        }
      ],
      "source": [
        "df.duplicated().sum()"
      ]
    },
    {
      "cell_type": "code",
      "execution_count": null,
      "id": "adb572cf",
      "metadata": {
        "execution": {
          "iopub.execute_input": "2023-07-26T11:45:40.941836Z",
          "iopub.status.busy": "2023-07-26T11:45:40.940985Z",
          "iopub.status.idle": "2023-07-26T11:45:40.957290Z",
          "shell.execute_reply": "2023-07-26T11:45:40.956434Z"
        },
        "papermill": {
          "duration": 0.030066,
          "end_time": "2023-07-26T11:45:40.959351",
          "exception": false,
          "start_time": "2023-07-26T11:45:40.929285",
          "status": "completed"
        },
        "tags": [],
        "id": "adb572cf"
      },
      "outputs": [],
      "source": [
        "#dropping duplicate values\n",
        "df1 = df.drop_duplicates().reset_index(drop=True)"
      ]
    },
    {
      "cell_type": "code",
      "execution_count": null,
      "id": "7a371534",
      "metadata": {
        "execution": {
          "iopub.execute_input": "2023-07-26T11:45:40.981961Z",
          "iopub.status.busy": "2023-07-26T11:45:40.981175Z",
          "iopub.status.idle": "2023-07-26T11:45:40.996761Z",
          "shell.execute_reply": "2023-07-26T11:45:40.995809Z"
        },
        "papermill": {
          "duration": 0.029101,
          "end_time": "2023-07-26T11:45:40.998935",
          "exception": false,
          "start_time": "2023-07-26T11:45:40.969834",
          "status": "completed"
        },
        "tags": [],
        "colab": {
          "base_uri": "https://localhost:8080/"
        },
        "id": "7a371534",
        "outputId": "d20afbd6-067a-42b0-c76c-a7e346c39b57"
      },
      "outputs": [
        {
          "output_type": "execute_result",
          "data": {
            "text/plain": [
              "0"
            ]
          },
          "metadata": {},
          "execution_count": 19
        }
      ],
      "source": [
        "df1.duplicated().sum()"
      ]
    },
    {
      "cell_type": "code",
      "execution_count": null,
      "id": "9b1d441c",
      "metadata": {
        "execution": {
          "iopub.execute_input": "2023-07-26T11:45:41.022003Z",
          "iopub.status.busy": "2023-07-26T11:45:41.021185Z",
          "iopub.status.idle": "2023-07-26T11:45:41.027483Z",
          "shell.execute_reply": "2023-07-26T11:45:41.026543Z"
        },
        "papermill": {
          "duration": 0.020036,
          "end_time": "2023-07-26T11:45:41.029580",
          "exception": false,
          "start_time": "2023-07-26T11:45:41.009544",
          "status": "completed"
        },
        "tags": [],
        "colab": {
          "base_uri": "https://localhost:8080/"
        },
        "id": "9b1d441c",
        "outputId": "8e03ebcd-7494-4898-b527-9cb77c7b0815"
      },
      "outputs": [
        {
          "output_type": "execute_result",
          "data": {
            "text/plain": [
              "(17812, 9)"
            ]
          },
          "metadata": {},
          "execution_count": 20
        }
      ],
      "source": [
        "df1.shape"
      ]
    },
    {
      "cell_type": "code",
      "execution_count": null,
      "id": "d6215702",
      "metadata": {
        "execution": {
          "iopub.execute_input": "2023-07-26T11:45:41.052600Z",
          "iopub.status.busy": "2023-07-26T11:45:41.051712Z",
          "iopub.status.idle": "2023-07-26T11:45:41.058329Z",
          "shell.execute_reply": "2023-07-26T11:45:41.057514Z"
        },
        "papermill": {
          "duration": 0.019999,
          "end_time": "2023-07-26T11:45:41.060310",
          "exception": false,
          "start_time": "2023-07-26T11:45:41.040311",
          "status": "completed"
        },
        "tags": [],
        "id": "d6215702"
      },
      "outputs": [],
      "source": [
        "#removing negative values\n",
        "df1=df1[df1['price'] >= 0]"
      ]
    },
    {
      "cell_type": "markdown",
      "id": "779f3024",
      "metadata": {
        "papermill": {
          "duration": 0.015289,
          "end_time": "2023-07-26T11:45:44.494787",
          "exception": false,
          "start_time": "2023-07-26T11:45:44.479498",
          "status": "completed"
        },
        "tags": [],
        "id": "779f3024"
      },
      "source": [
        "**Model Building**"
      ]
    },
    {
      "cell_type": "code",
      "execution_count": null,
      "id": "afb7affe",
      "metadata": {
        "execution": {
          "iopub.execute_input": "2023-07-26T11:45:44.527547Z",
          "iopub.status.busy": "2023-07-26T11:45:44.527174Z",
          "iopub.status.idle": "2023-07-26T11:45:44.533999Z",
          "shell.execute_reply": "2023-07-26T11:45:44.533077Z"
        },
        "papermill": {
          "duration": 0.025366,
          "end_time": "2023-07-26T11:45:44.535985",
          "exception": false,
          "start_time": "2023-07-26T11:45:44.510619",
          "status": "completed"
        },
        "tags": [],
        "id": "afb7affe"
      },
      "outputs": [],
      "source": [
        "X=df1.drop(['price'],axis=1)\n",
        "y=df1['price']"
      ]
    },
    {
      "cell_type": "code",
      "execution_count": null,
      "id": "e2ee875e",
      "metadata": {
        "execution": {
          "iopub.execute_input": "2023-07-26T11:45:44.569720Z",
          "iopub.status.busy": "2023-07-26T11:45:44.568837Z",
          "iopub.status.idle": "2023-07-26T11:45:44.590381Z",
          "shell.execute_reply": "2023-07-26T11:45:44.589490Z"
        },
        "papermill": {
          "duration": 0.040089,
          "end_time": "2023-07-26T11:45:44.592511",
          "exception": false,
          "start_time": "2023-07-26T11:45:44.552422",
          "status": "completed"
        },
        "tags": [],
        "id": "e2ee875e"
      },
      "outputs": [],
      "source": [
        "le=LabelEncoder()\n",
        "lst=['model','transmission','fuelType']\n",
        "for i in lst:\n",
        "  X[i]=le.fit_transform(X[i])"
      ]
    },
    {
      "cell_type": "code",
      "execution_count": null,
      "id": "aaf4cb29",
      "metadata": {
        "execution": {
          "iopub.execute_input": "2023-07-26T11:45:44.625617Z",
          "iopub.status.busy": "2023-07-26T11:45:44.624616Z",
          "iopub.status.idle": "2023-07-26T11:45:44.641544Z",
          "shell.execute_reply": "2023-07-26T11:45:44.640664Z"
        },
        "papermill": {
          "duration": 0.035771,
          "end_time": "2023-07-26T11:45:44.643619",
          "exception": false,
          "start_time": "2023-07-26T11:45:44.607848",
          "status": "completed"
        },
        "tags": [],
        "colab": {
          "base_uri": "https://localhost:8080/",
          "height": 419
        },
        "id": "aaf4cb29",
        "outputId": "e43c46fe-13fb-4f5a-b069-5ff7949c708b"
      },
      "outputs": [
        {
          "output_type": "execute_result",
          "data": {
            "text/plain": [
              "       model  year  transmission  mileage  fuelType  tax   mpg  engineSize\n",
              "0          5  2017             0    15944         4  150  57.7         1.0\n",
              "1          6  2018             1     9083         4  150  57.7         1.0\n",
              "2          6  2017             1    12456         4  150  57.7         1.0\n",
              "3          5  2019             1    10460         4  145  40.3         1.5\n",
              "4          5  2019             0     1482         4  145  48.7         1.0\n",
              "...      ...   ...           ...      ...       ...  ...   ...         ...\n",
              "17807      0  2017             1    16700         4  150  47.1         1.4\n",
              "17808      0  2014             1    40700         4   30  57.7         1.0\n",
              "17809      6  2015             1     7010         0   20  67.3         1.6\n",
              "17810     11  2018             1     5007         4  145  57.7         1.2\n",
              "17811     23  2015             1     5007         4   22  57.7         1.0\n",
              "\n",
              "[17812 rows x 8 columns]"
            ],
            "text/html": [
              "\n",
              "  <div id=\"df-26a084d9-f792-450d-adbe-8cfa3064d728\" class=\"colab-df-container\">\n",
              "    <div>\n",
              "<style scoped>\n",
              "    .dataframe tbody tr th:only-of-type {\n",
              "        vertical-align: middle;\n",
              "    }\n",
              "\n",
              "    .dataframe tbody tr th {\n",
              "        vertical-align: top;\n",
              "    }\n",
              "\n",
              "    .dataframe thead th {\n",
              "        text-align: right;\n",
              "    }\n",
              "</style>\n",
              "<table border=\"1\" class=\"dataframe\">\n",
              "  <thead>\n",
              "    <tr style=\"text-align: right;\">\n",
              "      <th></th>\n",
              "      <th>model</th>\n",
              "      <th>year</th>\n",
              "      <th>transmission</th>\n",
              "      <th>mileage</th>\n",
              "      <th>fuelType</th>\n",
              "      <th>tax</th>\n",
              "      <th>mpg</th>\n",
              "      <th>engineSize</th>\n",
              "    </tr>\n",
              "  </thead>\n",
              "  <tbody>\n",
              "    <tr>\n",
              "      <th>0</th>\n",
              "      <td>5</td>\n",
              "      <td>2017</td>\n",
              "      <td>0</td>\n",
              "      <td>15944</td>\n",
              "      <td>4</td>\n",
              "      <td>150</td>\n",
              "      <td>57.7</td>\n",
              "      <td>1.0</td>\n",
              "    </tr>\n",
              "    <tr>\n",
              "      <th>1</th>\n",
              "      <td>6</td>\n",
              "      <td>2018</td>\n",
              "      <td>1</td>\n",
              "      <td>9083</td>\n",
              "      <td>4</td>\n",
              "      <td>150</td>\n",
              "      <td>57.7</td>\n",
              "      <td>1.0</td>\n",
              "    </tr>\n",
              "    <tr>\n",
              "      <th>2</th>\n",
              "      <td>6</td>\n",
              "      <td>2017</td>\n",
              "      <td>1</td>\n",
              "      <td>12456</td>\n",
              "      <td>4</td>\n",
              "      <td>150</td>\n",
              "      <td>57.7</td>\n",
              "      <td>1.0</td>\n",
              "    </tr>\n",
              "    <tr>\n",
              "      <th>3</th>\n",
              "      <td>5</td>\n",
              "      <td>2019</td>\n",
              "      <td>1</td>\n",
              "      <td>10460</td>\n",
              "      <td>4</td>\n",
              "      <td>145</td>\n",
              "      <td>40.3</td>\n",
              "      <td>1.5</td>\n",
              "    </tr>\n",
              "    <tr>\n",
              "      <th>4</th>\n",
              "      <td>5</td>\n",
              "      <td>2019</td>\n",
              "      <td>0</td>\n",
              "      <td>1482</td>\n",
              "      <td>4</td>\n",
              "      <td>145</td>\n",
              "      <td>48.7</td>\n",
              "      <td>1.0</td>\n",
              "    </tr>\n",
              "    <tr>\n",
              "      <th>...</th>\n",
              "      <td>...</td>\n",
              "      <td>...</td>\n",
              "      <td>...</td>\n",
              "      <td>...</td>\n",
              "      <td>...</td>\n",
              "      <td>...</td>\n",
              "      <td>...</td>\n",
              "      <td>...</td>\n",
              "    </tr>\n",
              "    <tr>\n",
              "      <th>17807</th>\n",
              "      <td>0</td>\n",
              "      <td>2017</td>\n",
              "      <td>1</td>\n",
              "      <td>16700</td>\n",
              "      <td>4</td>\n",
              "      <td>150</td>\n",
              "      <td>47.1</td>\n",
              "      <td>1.4</td>\n",
              "    </tr>\n",
              "    <tr>\n",
              "      <th>17808</th>\n",
              "      <td>0</td>\n",
              "      <td>2014</td>\n",
              "      <td>1</td>\n",
              "      <td>40700</td>\n",
              "      <td>4</td>\n",
              "      <td>30</td>\n",
              "      <td>57.7</td>\n",
              "      <td>1.0</td>\n",
              "    </tr>\n",
              "    <tr>\n",
              "      <th>17809</th>\n",
              "      <td>6</td>\n",
              "      <td>2015</td>\n",
              "      <td>1</td>\n",
              "      <td>7010</td>\n",
              "      <td>0</td>\n",
              "      <td>20</td>\n",
              "      <td>67.3</td>\n",
              "      <td>1.6</td>\n",
              "    </tr>\n",
              "    <tr>\n",
              "      <th>17810</th>\n",
              "      <td>11</td>\n",
              "      <td>2018</td>\n",
              "      <td>1</td>\n",
              "      <td>5007</td>\n",
              "      <td>4</td>\n",
              "      <td>145</td>\n",
              "      <td>57.7</td>\n",
              "      <td>1.2</td>\n",
              "    </tr>\n",
              "    <tr>\n",
              "      <th>17811</th>\n",
              "      <td>23</td>\n",
              "      <td>2015</td>\n",
              "      <td>1</td>\n",
              "      <td>5007</td>\n",
              "      <td>4</td>\n",
              "      <td>22</td>\n",
              "      <td>57.7</td>\n",
              "      <td>1.0</td>\n",
              "    </tr>\n",
              "  </tbody>\n",
              "</table>\n",
              "<p>17812 rows × 8 columns</p>\n",
              "</div>\n",
              "    <div class=\"colab-df-buttons\">\n",
              "\n",
              "  <div class=\"colab-df-container\">\n",
              "    <button class=\"colab-df-convert\" onclick=\"convertToInteractive('df-26a084d9-f792-450d-adbe-8cfa3064d728')\"\n",
              "            title=\"Convert this dataframe to an interactive table.\"\n",
              "            style=\"display:none;\">\n",
              "\n",
              "  <svg xmlns=\"http://www.w3.org/2000/svg\" height=\"24px\" viewBox=\"0 -960 960 960\">\n",
              "    <path d=\"M120-120v-720h720v720H120Zm60-500h600v-160H180v160Zm220 220h160v-160H400v160Zm0 220h160v-160H400v160ZM180-400h160v-160H180v160Zm440 0h160v-160H620v160ZM180-180h160v-160H180v160Zm440 0h160v-160H620v160Z\"/>\n",
              "  </svg>\n",
              "    </button>\n",
              "\n",
              "  <style>\n",
              "    .colab-df-container {\n",
              "      display:flex;\n",
              "      gap: 12px;\n",
              "    }\n",
              "\n",
              "    .colab-df-convert {\n",
              "      background-color: #E8F0FE;\n",
              "      border: none;\n",
              "      border-radius: 50%;\n",
              "      cursor: pointer;\n",
              "      display: none;\n",
              "      fill: #1967D2;\n",
              "      height: 32px;\n",
              "      padding: 0 0 0 0;\n",
              "      width: 32px;\n",
              "    }\n",
              "\n",
              "    .colab-df-convert:hover {\n",
              "      background-color: #E2EBFA;\n",
              "      box-shadow: 0px 1px 2px rgba(60, 64, 67, 0.3), 0px 1px 3px 1px rgba(60, 64, 67, 0.15);\n",
              "      fill: #174EA6;\n",
              "    }\n",
              "\n",
              "    .colab-df-buttons div {\n",
              "      margin-bottom: 4px;\n",
              "    }\n",
              "\n",
              "    [theme=dark] .colab-df-convert {\n",
              "      background-color: #3B4455;\n",
              "      fill: #D2E3FC;\n",
              "    }\n",
              "\n",
              "    [theme=dark] .colab-df-convert:hover {\n",
              "      background-color: #434B5C;\n",
              "      box-shadow: 0px 1px 3px 1px rgba(0, 0, 0, 0.15);\n",
              "      filter: drop-shadow(0px 1px 2px rgba(0, 0, 0, 0.3));\n",
              "      fill: #FFFFFF;\n",
              "    }\n",
              "  </style>\n",
              "\n",
              "    <script>\n",
              "      const buttonEl =\n",
              "        document.querySelector('#df-26a084d9-f792-450d-adbe-8cfa3064d728 button.colab-df-convert');\n",
              "      buttonEl.style.display =\n",
              "        google.colab.kernel.accessAllowed ? 'block' : 'none';\n",
              "\n",
              "      async function convertToInteractive(key) {\n",
              "        const element = document.querySelector('#df-26a084d9-f792-450d-adbe-8cfa3064d728');\n",
              "        const dataTable =\n",
              "          await google.colab.kernel.invokeFunction('convertToInteractive',\n",
              "                                                    [key], {});\n",
              "        if (!dataTable) return;\n",
              "\n",
              "        const docLinkHtml = 'Like what you see? Visit the ' +\n",
              "          '<a target=\"_blank\" href=https://colab.research.google.com/notebooks/data_table.ipynb>data table notebook</a>'\n",
              "          + ' to learn more about interactive tables.';\n",
              "        element.innerHTML = '';\n",
              "        dataTable['output_type'] = 'display_data';\n",
              "        await google.colab.output.renderOutput(dataTable, element);\n",
              "        const docLink = document.createElement('div');\n",
              "        docLink.innerHTML = docLinkHtml;\n",
              "        element.appendChild(docLink);\n",
              "      }\n",
              "    </script>\n",
              "  </div>\n",
              "\n",
              "\n",
              "<div id=\"df-dde00475-b0d2-4003-8e9f-a3f1a7136479\">\n",
              "  <button class=\"colab-df-quickchart\" onclick=\"quickchart('df-dde00475-b0d2-4003-8e9f-a3f1a7136479')\"\n",
              "            title=\"Suggest charts\"\n",
              "            style=\"display:none;\">\n",
              "\n",
              "<svg xmlns=\"http://www.w3.org/2000/svg\" height=\"24px\"viewBox=\"0 0 24 24\"\n",
              "     width=\"24px\">\n",
              "    <g>\n",
              "        <path d=\"M19 3H5c-1.1 0-2 .9-2 2v14c0 1.1.9 2 2 2h14c1.1 0 2-.9 2-2V5c0-1.1-.9-2-2-2zM9 17H7v-7h2v7zm4 0h-2V7h2v10zm4 0h-2v-4h2v4z\"/>\n",
              "    </g>\n",
              "</svg>\n",
              "  </button>\n",
              "\n",
              "<style>\n",
              "  .colab-df-quickchart {\n",
              "      --bg-color: #E8F0FE;\n",
              "      --fill-color: #1967D2;\n",
              "      --hover-bg-color: #E2EBFA;\n",
              "      --hover-fill-color: #174EA6;\n",
              "      --disabled-fill-color: #AAA;\n",
              "      --disabled-bg-color: #DDD;\n",
              "  }\n",
              "\n",
              "  [theme=dark] .colab-df-quickchart {\n",
              "      --bg-color: #3B4455;\n",
              "      --fill-color: #D2E3FC;\n",
              "      --hover-bg-color: #434B5C;\n",
              "      --hover-fill-color: #FFFFFF;\n",
              "      --disabled-bg-color: #3B4455;\n",
              "      --disabled-fill-color: #666;\n",
              "  }\n",
              "\n",
              "  .colab-df-quickchart {\n",
              "    background-color: var(--bg-color);\n",
              "    border: none;\n",
              "    border-radius: 50%;\n",
              "    cursor: pointer;\n",
              "    display: none;\n",
              "    fill: var(--fill-color);\n",
              "    height: 32px;\n",
              "    padding: 0;\n",
              "    width: 32px;\n",
              "  }\n",
              "\n",
              "  .colab-df-quickchart:hover {\n",
              "    background-color: var(--hover-bg-color);\n",
              "    box-shadow: 0 1px 2px rgba(60, 64, 67, 0.3), 0 1px 3px 1px rgba(60, 64, 67, 0.15);\n",
              "    fill: var(--button-hover-fill-color);\n",
              "  }\n",
              "\n",
              "  .colab-df-quickchart-complete:disabled,\n",
              "  .colab-df-quickchart-complete:disabled:hover {\n",
              "    background-color: var(--disabled-bg-color);\n",
              "    fill: var(--disabled-fill-color);\n",
              "    box-shadow: none;\n",
              "  }\n",
              "\n",
              "  .colab-df-spinner {\n",
              "    border: 2px solid var(--fill-color);\n",
              "    border-color: transparent;\n",
              "    border-bottom-color: var(--fill-color);\n",
              "    animation:\n",
              "      spin 1s steps(1) infinite;\n",
              "  }\n",
              "\n",
              "  @keyframes spin {\n",
              "    0% {\n",
              "      border-color: transparent;\n",
              "      border-bottom-color: var(--fill-color);\n",
              "      border-left-color: var(--fill-color);\n",
              "    }\n",
              "    20% {\n",
              "      border-color: transparent;\n",
              "      border-left-color: var(--fill-color);\n",
              "      border-top-color: var(--fill-color);\n",
              "    }\n",
              "    30% {\n",
              "      border-color: transparent;\n",
              "      border-left-color: var(--fill-color);\n",
              "      border-top-color: var(--fill-color);\n",
              "      border-right-color: var(--fill-color);\n",
              "    }\n",
              "    40% {\n",
              "      border-color: transparent;\n",
              "      border-right-color: var(--fill-color);\n",
              "      border-top-color: var(--fill-color);\n",
              "    }\n",
              "    60% {\n",
              "      border-color: transparent;\n",
              "      border-right-color: var(--fill-color);\n",
              "    }\n",
              "    80% {\n",
              "      border-color: transparent;\n",
              "      border-right-color: var(--fill-color);\n",
              "      border-bottom-color: var(--fill-color);\n",
              "    }\n",
              "    90% {\n",
              "      border-color: transparent;\n",
              "      border-bottom-color: var(--fill-color);\n",
              "    }\n",
              "  }\n",
              "</style>\n",
              "\n",
              "  <script>\n",
              "    async function quickchart(key) {\n",
              "      const quickchartButtonEl =\n",
              "        document.querySelector('#' + key + ' button');\n",
              "      quickchartButtonEl.disabled = true;  // To prevent multiple clicks.\n",
              "      quickchartButtonEl.classList.add('colab-df-spinner');\n",
              "      try {\n",
              "        const charts = await google.colab.kernel.invokeFunction(\n",
              "            'suggestCharts', [key], {});\n",
              "      } catch (error) {\n",
              "        console.error('Error during call to suggestCharts:', error);\n",
              "      }\n",
              "      quickchartButtonEl.classList.remove('colab-df-spinner');\n",
              "      quickchartButtonEl.classList.add('colab-df-quickchart-complete');\n",
              "    }\n",
              "    (() => {\n",
              "      let quickchartButtonEl =\n",
              "        document.querySelector('#df-dde00475-b0d2-4003-8e9f-a3f1a7136479 button');\n",
              "      quickchartButtonEl.style.display =\n",
              "        google.colab.kernel.accessAllowed ? 'block' : 'none';\n",
              "    })();\n",
              "  </script>\n",
              "</div>\n",
              "    </div>\n",
              "  </div>\n"
            ]
          },
          "metadata": {},
          "execution_count": 35
        }
      ],
      "source": [
        "X"
      ]
    },
    {
      "cell_type": "code",
      "execution_count": null,
      "id": "603f422f",
      "metadata": {
        "execution": {
          "iopub.execute_input": "2023-07-26T11:45:44.677303Z",
          "iopub.status.busy": "2023-07-26T11:45:44.676425Z",
          "iopub.status.idle": "2023-07-26T11:45:44.686641Z",
          "shell.execute_reply": "2023-07-26T11:45:44.685782Z"
        },
        "papermill": {
          "duration": 0.029024,
          "end_time": "2023-07-26T11:45:44.688697",
          "exception": false,
          "start_time": "2023-07-26T11:45:44.659673",
          "status": "completed"
        },
        "tags": [],
        "id": "603f422f"
      },
      "outputs": [],
      "source": [
        "#scaling using standard scaler\n",
        "ms=MinMaxScaler()\n",
        "X_ms=ms.fit_transform(X)"
      ]
    },
    {
      "cell_type": "code",
      "execution_count": null,
      "id": "2daceb1b",
      "metadata": {
        "execution": {
          "iopub.execute_input": "2023-07-26T11:45:44.722048Z",
          "iopub.status.busy": "2023-07-26T11:45:44.721673Z",
          "iopub.status.idle": "2023-07-26T11:45:44.729573Z",
          "shell.execute_reply": "2023-07-26T11:45:44.728736Z"
        },
        "papermill": {
          "duration": 0.027116,
          "end_time": "2023-07-26T11:45:44.731575",
          "exception": false,
          "start_time": "2023-07-26T11:45:44.704459",
          "status": "completed"
        },
        "tags": [],
        "id": "2daceb1b"
      },
      "outputs": [],
      "source": [
        "#Performing train_test_split\n",
        "X_train,X_test,y_train,y_test=train_test_split(X_ms,y,test_size=0.3,random_state=0)"
      ]
    },
    {
      "cell_type": "code",
      "execution_count": null,
      "id": "753f8d5b",
      "metadata": {
        "execution": {
          "iopub.execute_input": "2023-07-26T11:45:44.765137Z",
          "iopub.status.busy": "2023-07-26T11:45:44.764255Z",
          "iopub.status.idle": "2023-07-26T11:45:44.795203Z",
          "shell.execute_reply": "2023-07-26T11:45:44.794298Z"
        },
        "papermill": {
          "duration": 0.05293,
          "end_time": "2023-07-26T11:45:44.800397",
          "exception": false,
          "start_time": "2023-07-26T11:45:44.747467",
          "status": "completed"
        },
        "tags": [],
        "colab": {
          "base_uri": "https://localhost:8080/"
        },
        "id": "753f8d5b",
        "outputId": "afe66ded-5650-49a9-e678-b23a8df469a7"
      },
      "outputs": [
        {
          "output_type": "execute_result",
          "data": {
            "text/plain": [
              "array([19743.83972635, 18253.13830937, 17448.11730824, ...,\n",
              "       11683.22573171, 14601.24635879, 10278.46057461])"
            ]
          },
          "metadata": {},
          "execution_count": 38
        }
      ],
      "source": [
        "#model building using Multiple regression\n",
        "mlr=LinearRegression()\n",
        "mlr.fit(X_train,y_train)\n",
        "y_pred=mlr.predict(X_test)\n",
        "y_pred"
      ]
    },
    {
      "cell_type": "code",
      "execution_count": null,
      "id": "c6c42808",
      "metadata": {
        "execution": {
          "iopub.execute_input": "2023-07-26T11:45:44.929081Z",
          "iopub.status.busy": "2023-07-26T11:45:44.928693Z",
          "iopub.status.idle": "2023-07-26T11:45:44.939880Z",
          "shell.execute_reply": "2023-07-26T11:45:44.938242Z"
        },
        "papermill": {
          "duration": 0.064516,
          "end_time": "2023-07-26T11:45:44.941981",
          "exception": false,
          "start_time": "2023-07-26T11:45:44.877465",
          "status": "completed"
        },
        "tags": [],
        "colab": {
          "base_uri": "https://localhost:8080/"
        },
        "id": "c6c42808",
        "outputId": "3050b84c-82a1-42c7-f815-79e1c4547b8d"
      },
      "outputs": [
        {
          "output_type": "stream",
          "name": "stdout",
          "text": [
            "mean absolute error: 1744.4062565534568\n",
            "mean squared error: 6111403.357249421\n",
            "root mean squared error: 2472.125271350427\n",
            "r2-score: 0.7195451674275322\n"
          ]
        }
      ],
      "source": [
        "#model validation for Multiple Regression\n",
        "import numpy as np\n",
        "print(\"mean absolute error:\",mean_absolute_error(y_test,y_pred))\n",
        "print(\"mean squared error:\",mean_squared_error(y_test,y_pred))\n",
        "print(\"root mean squared error:\",np.sqrt(mean_squared_error(y_test,y_pred)))\n",
        "print(\"r2-score:\",r2_score(y_test,y_pred))"
      ]
    },
    {
      "cell_type": "code",
      "execution_count": null,
      "id": "16eb597e",
      "metadata": {
        "execution": {
          "iopub.execute_input": "2023-07-26T11:45:44.975943Z",
          "iopub.status.busy": "2023-07-26T11:45:44.975568Z",
          "iopub.status.idle": "2023-07-26T11:45:48.062312Z",
          "shell.execute_reply": "2023-07-26T11:45:48.061406Z"
        },
        "papermill": {
          "duration": 3.106161,
          "end_time": "2023-07-26T11:45:48.064705",
          "exception": false,
          "start_time": "2023-07-26T11:45:44.958544",
          "status": "completed"
        },
        "tags": [],
        "colab": {
          "base_uri": "https://localhost:8080/"
        },
        "id": "16eb597e",
        "outputId": "34a36341-5d48-40e3-ad67-ceef79caf375"
      },
      "outputs": [
        {
          "output_type": "execute_result",
          "data": {
            "text/plain": [
              "array([21171.86 , 20755.32 , 17572.26 , ..., 11412.315, 13295.42 ,\n",
              "       11814.37 ])"
            ]
          },
          "metadata": {},
          "execution_count": 40
        }
      ],
      "source": [
        "#model building using Random Forest Regressor\n",
        "rs=RandomForestRegressor()\n",
        "rs.fit(X_train,y_train)\n",
        "y_pred1=rs.predict(X_test)\n",
        "y_pred1"
      ]
    },
    {
      "cell_type": "code",
      "execution_count": null,
      "id": "79b026a3",
      "metadata": {
        "execution": {
          "iopub.execute_input": "2023-07-26T11:45:48.099808Z",
          "iopub.status.busy": "2023-07-26T11:45:48.099445Z",
          "iopub.status.idle": "2023-07-26T11:45:48.108657Z",
          "shell.execute_reply": "2023-07-26T11:45:48.107771Z"
        },
        "papermill": {
          "duration": 0.02933,
          "end_time": "2023-07-26T11:45:48.110931",
          "exception": false,
          "start_time": "2023-07-26T11:45:48.081601",
          "status": "completed"
        },
        "tags": [],
        "colab": {
          "base_uri": "https://localhost:8080/"
        },
        "id": "79b026a3",
        "outputId": "3f68826a-1930-45a3-8bed-9ef2185397ae"
      },
      "outputs": [
        {
          "output_type": "stream",
          "name": "stdout",
          "text": [
            "mean absolute error: 889.4743106510193\n",
            "mean squared error: 1699546.1869131576\n",
            "root mean squared error: 1303.6664400501984\n",
            "R2 score: 0.9220071212065388\n"
          ]
        }
      ],
      "source": [
        "print(\"mean absolute error:\",mean_absolute_error(y_test,y_pred1))\n",
        "print(\"mean squared error:\",mean_squared_error(y_test,y_pred1))\n",
        "print(\"root mean squared error:\",np.sqrt(mean_squared_error(y_test,y_pred1)))\n",
        "print(\"R2 score:\",r2_score(y_test,y_pred1))"
      ]
    },
    {
      "cell_type": "code",
      "execution_count": null,
      "id": "7c3344d7",
      "metadata": {
        "execution": {
          "iopub.execute_input": "2023-07-26T11:45:49.160153Z",
          "iopub.status.busy": "2023-07-26T11:45:49.159789Z",
          "iopub.status.idle": "2023-07-26T11:45:50.065959Z",
          "shell.execute_reply": "2023-07-26T11:45:50.065186Z"
        },
        "papermill": {
          "duration": 0.927071,
          "end_time": "2023-07-26T11:45:50.068532",
          "exception": false,
          "start_time": "2023-07-26T11:45:49.141461",
          "status": "completed"
        },
        "tags": [],
        "colab": {
          "base_uri": "https://localhost:8080/"
        },
        "id": "7c3344d7",
        "outputId": "28cfe893-2ec3-4dcb-859c-8455260bdc5b"
      },
      "outputs": [
        {
          "output_type": "execute_result",
          "data": {
            "text/plain": [
              "array([21397.762, 20585.121, 17926.434, ..., 10762.372, 13357.588,\n",
              "       11120.473], dtype=float32)"
            ]
          },
          "metadata": {},
          "execution_count": 42
        }
      ],
      "source": [
        "#model building using XGBoost Regressor\n",
        "xgb=XGBRegressor()\n",
        "xgb.fit(X_train,y_train)\n",
        "y_pred4=xgb.predict(X_test)\n",
        "y_pred4"
      ]
    },
    {
      "cell_type": "code",
      "execution_count": null,
      "id": "71d970db",
      "metadata": {
        "execution": {
          "iopub.execute_input": "2023-07-26T11:45:50.105962Z",
          "iopub.status.busy": "2023-07-26T11:45:50.105581Z",
          "iopub.status.idle": "2023-07-26T11:45:50.115886Z",
          "shell.execute_reply": "2023-07-26T11:45:50.114758Z"
        },
        "papermill": {
          "duration": 0.030229,
          "end_time": "2023-07-26T11:45:50.117967",
          "exception": false,
          "start_time": "2023-07-26T11:45:50.087738",
          "status": "completed"
        },
        "tags": [],
        "colab": {
          "base_uri": "https://localhost:8080/"
        },
        "id": "71d970db",
        "outputId": "3485496b-46da-4f44-8546-25d1ff9d0e97"
      },
      "outputs": [
        {
          "output_type": "stream",
          "name": "stdout",
          "text": [
            "mean absolute error: 828.0110195639604\n",
            "mean squared error: 1487618.290191304\n",
            "root mean squared error: 1219.679585051461\n",
            "R2 score: 0.9317325802080395\n"
          ]
        }
      ],
      "source": [
        "print(\"mean absolute error:\",mean_absolute_error(y_test,y_pred4))\n",
        "print(\"mean squared error:\",mean_squared_error(y_test,y_pred4))\n",
        "print(\"root mean squared error:\",np.sqrt(mean_squared_error(y_test,y_pred4)))\n",
        "print(\"R2 score:\",r2_score(y_test,y_pred4))"
      ]
    },
    {
      "cell_type": "code",
      "execution_count": null,
      "id": "10af4cc0",
      "metadata": {
        "execution": {
          "iopub.execute_input": "2023-07-26T11:45:50.152303Z",
          "iopub.status.busy": "2023-07-26T11:45:50.151962Z",
          "iopub.status.idle": "2023-07-26T11:45:50.168794Z",
          "shell.execute_reply": "2023-07-26T11:45:50.167789Z"
        },
        "papermill": {
          "duration": 0.036591,
          "end_time": "2023-07-26T11:45:50.170982",
          "exception": false,
          "start_time": "2023-07-26T11:45:50.134391",
          "status": "completed"
        },
        "tags": [],
        "colab": {
          "base_uri": "https://localhost:8080/",
          "height": 419
        },
        "id": "10af4cc0",
        "outputId": "1d237145-9ea3-446a-aa39-640259de94c9"
      },
      "outputs": [
        {
          "output_type": "execute_result",
          "data": {
            "text/plain": [
              "       Actual Values  linear_Model  Random_Forest      Xg_Boost\n",
              "2122           21845  19743.839726      21171.860  21397.761719\n",
              "12465          20000  18253.138309      20755.320  20585.121094\n",
              "5989           20000  17448.117308      17572.260  17926.433594\n",
              "1243            5998   8679.130973       6676.890   6804.084473\n",
              "16105          15850  15474.870636      16199.600  16542.343750\n",
              "...              ...           ...            ...           ...\n",
              "12498          16000  15216.166212      16693.910  16869.708984\n",
              "8676           11175  10678.409605      10554.600  10409.725586\n",
              "1530           11298  11683.225732      11412.315  10762.372070\n",
              "12995          12500  14601.246359      13295.420  13357.587891\n",
              "4848           11600  10278.460575      11814.370  11120.472656\n",
              "\n",
              "[5344 rows x 4 columns]"
            ],
            "text/html": [
              "\n",
              "  <div id=\"df-8f1fc894-75b6-4e85-9c9e-d71eefc5aeba\" class=\"colab-df-container\">\n",
              "    <div>\n",
              "<style scoped>\n",
              "    .dataframe tbody tr th:only-of-type {\n",
              "        vertical-align: middle;\n",
              "    }\n",
              "\n",
              "    .dataframe tbody tr th {\n",
              "        vertical-align: top;\n",
              "    }\n",
              "\n",
              "    .dataframe thead th {\n",
              "        text-align: right;\n",
              "    }\n",
              "</style>\n",
              "<table border=\"1\" class=\"dataframe\">\n",
              "  <thead>\n",
              "    <tr style=\"text-align: right;\">\n",
              "      <th></th>\n",
              "      <th>Actual Values</th>\n",
              "      <th>linear_Model</th>\n",
              "      <th>Random_Forest</th>\n",
              "      <th>Xg_Boost</th>\n",
              "    </tr>\n",
              "  </thead>\n",
              "  <tbody>\n",
              "    <tr>\n",
              "      <th>2122</th>\n",
              "      <td>21845</td>\n",
              "      <td>19743.839726</td>\n",
              "      <td>21171.860</td>\n",
              "      <td>21397.761719</td>\n",
              "    </tr>\n",
              "    <tr>\n",
              "      <th>12465</th>\n",
              "      <td>20000</td>\n",
              "      <td>18253.138309</td>\n",
              "      <td>20755.320</td>\n",
              "      <td>20585.121094</td>\n",
              "    </tr>\n",
              "    <tr>\n",
              "      <th>5989</th>\n",
              "      <td>20000</td>\n",
              "      <td>17448.117308</td>\n",
              "      <td>17572.260</td>\n",
              "      <td>17926.433594</td>\n",
              "    </tr>\n",
              "    <tr>\n",
              "      <th>1243</th>\n",
              "      <td>5998</td>\n",
              "      <td>8679.130973</td>\n",
              "      <td>6676.890</td>\n",
              "      <td>6804.084473</td>\n",
              "    </tr>\n",
              "    <tr>\n",
              "      <th>16105</th>\n",
              "      <td>15850</td>\n",
              "      <td>15474.870636</td>\n",
              "      <td>16199.600</td>\n",
              "      <td>16542.343750</td>\n",
              "    </tr>\n",
              "    <tr>\n",
              "      <th>...</th>\n",
              "      <td>...</td>\n",
              "      <td>...</td>\n",
              "      <td>...</td>\n",
              "      <td>...</td>\n",
              "    </tr>\n",
              "    <tr>\n",
              "      <th>12498</th>\n",
              "      <td>16000</td>\n",
              "      <td>15216.166212</td>\n",
              "      <td>16693.910</td>\n",
              "      <td>16869.708984</td>\n",
              "    </tr>\n",
              "    <tr>\n",
              "      <th>8676</th>\n",
              "      <td>11175</td>\n",
              "      <td>10678.409605</td>\n",
              "      <td>10554.600</td>\n",
              "      <td>10409.725586</td>\n",
              "    </tr>\n",
              "    <tr>\n",
              "      <th>1530</th>\n",
              "      <td>11298</td>\n",
              "      <td>11683.225732</td>\n",
              "      <td>11412.315</td>\n",
              "      <td>10762.372070</td>\n",
              "    </tr>\n",
              "    <tr>\n",
              "      <th>12995</th>\n",
              "      <td>12500</td>\n",
              "      <td>14601.246359</td>\n",
              "      <td>13295.420</td>\n",
              "      <td>13357.587891</td>\n",
              "    </tr>\n",
              "    <tr>\n",
              "      <th>4848</th>\n",
              "      <td>11600</td>\n",
              "      <td>10278.460575</td>\n",
              "      <td>11814.370</td>\n",
              "      <td>11120.472656</td>\n",
              "    </tr>\n",
              "  </tbody>\n",
              "</table>\n",
              "<p>5344 rows × 4 columns</p>\n",
              "</div>\n",
              "    <div class=\"colab-df-buttons\">\n",
              "\n",
              "  <div class=\"colab-df-container\">\n",
              "    <button class=\"colab-df-convert\" onclick=\"convertToInteractive('df-8f1fc894-75b6-4e85-9c9e-d71eefc5aeba')\"\n",
              "            title=\"Convert this dataframe to an interactive table.\"\n",
              "            style=\"display:none;\">\n",
              "\n",
              "  <svg xmlns=\"http://www.w3.org/2000/svg\" height=\"24px\" viewBox=\"0 -960 960 960\">\n",
              "    <path d=\"M120-120v-720h720v720H120Zm60-500h600v-160H180v160Zm220 220h160v-160H400v160Zm0 220h160v-160H400v160ZM180-400h160v-160H180v160Zm440 0h160v-160H620v160ZM180-180h160v-160H180v160Zm440 0h160v-160H620v160Z\"/>\n",
              "  </svg>\n",
              "    </button>\n",
              "\n",
              "  <style>\n",
              "    .colab-df-container {\n",
              "      display:flex;\n",
              "      gap: 12px;\n",
              "    }\n",
              "\n",
              "    .colab-df-convert {\n",
              "      background-color: #E8F0FE;\n",
              "      border: none;\n",
              "      border-radius: 50%;\n",
              "      cursor: pointer;\n",
              "      display: none;\n",
              "      fill: #1967D2;\n",
              "      height: 32px;\n",
              "      padding: 0 0 0 0;\n",
              "      width: 32px;\n",
              "    }\n",
              "\n",
              "    .colab-df-convert:hover {\n",
              "      background-color: #E2EBFA;\n",
              "      box-shadow: 0px 1px 2px rgba(60, 64, 67, 0.3), 0px 1px 3px 1px rgba(60, 64, 67, 0.15);\n",
              "      fill: #174EA6;\n",
              "    }\n",
              "\n",
              "    .colab-df-buttons div {\n",
              "      margin-bottom: 4px;\n",
              "    }\n",
              "\n",
              "    [theme=dark] .colab-df-convert {\n",
              "      background-color: #3B4455;\n",
              "      fill: #D2E3FC;\n",
              "    }\n",
              "\n",
              "    [theme=dark] .colab-df-convert:hover {\n",
              "      background-color: #434B5C;\n",
              "      box-shadow: 0px 1px 3px 1px rgba(0, 0, 0, 0.15);\n",
              "      filter: drop-shadow(0px 1px 2px rgba(0, 0, 0, 0.3));\n",
              "      fill: #FFFFFF;\n",
              "    }\n",
              "  </style>\n",
              "\n",
              "    <script>\n",
              "      const buttonEl =\n",
              "        document.querySelector('#df-8f1fc894-75b6-4e85-9c9e-d71eefc5aeba button.colab-df-convert');\n",
              "      buttonEl.style.display =\n",
              "        google.colab.kernel.accessAllowed ? 'block' : 'none';\n",
              "\n",
              "      async function convertToInteractive(key) {\n",
              "        const element = document.querySelector('#df-8f1fc894-75b6-4e85-9c9e-d71eefc5aeba');\n",
              "        const dataTable =\n",
              "          await google.colab.kernel.invokeFunction('convertToInteractive',\n",
              "                                                    [key], {});\n",
              "        if (!dataTable) return;\n",
              "\n",
              "        const docLinkHtml = 'Like what you see? Visit the ' +\n",
              "          '<a target=\"_blank\" href=https://colab.research.google.com/notebooks/data_table.ipynb>data table notebook</a>'\n",
              "          + ' to learn more about interactive tables.';\n",
              "        element.innerHTML = '';\n",
              "        dataTable['output_type'] = 'display_data';\n",
              "        await google.colab.output.renderOutput(dataTable, element);\n",
              "        const docLink = document.createElement('div');\n",
              "        docLink.innerHTML = docLinkHtml;\n",
              "        element.appendChild(docLink);\n",
              "      }\n",
              "    </script>\n",
              "  </div>\n",
              "\n",
              "\n",
              "<div id=\"df-b089c507-a465-4a13-83f2-64ab1dcd317e\">\n",
              "  <button class=\"colab-df-quickchart\" onclick=\"quickchart('df-b089c507-a465-4a13-83f2-64ab1dcd317e')\"\n",
              "            title=\"Suggest charts\"\n",
              "            style=\"display:none;\">\n",
              "\n",
              "<svg xmlns=\"http://www.w3.org/2000/svg\" height=\"24px\"viewBox=\"0 0 24 24\"\n",
              "     width=\"24px\">\n",
              "    <g>\n",
              "        <path d=\"M19 3H5c-1.1 0-2 .9-2 2v14c0 1.1.9 2 2 2h14c1.1 0 2-.9 2-2V5c0-1.1-.9-2-2-2zM9 17H7v-7h2v7zm4 0h-2V7h2v10zm4 0h-2v-4h2v4z\"/>\n",
              "    </g>\n",
              "</svg>\n",
              "  </button>\n",
              "\n",
              "<style>\n",
              "  .colab-df-quickchart {\n",
              "      --bg-color: #E8F0FE;\n",
              "      --fill-color: #1967D2;\n",
              "      --hover-bg-color: #E2EBFA;\n",
              "      --hover-fill-color: #174EA6;\n",
              "      --disabled-fill-color: #AAA;\n",
              "      --disabled-bg-color: #DDD;\n",
              "  }\n",
              "\n",
              "  [theme=dark] .colab-df-quickchart {\n",
              "      --bg-color: #3B4455;\n",
              "      --fill-color: #D2E3FC;\n",
              "      --hover-bg-color: #434B5C;\n",
              "      --hover-fill-color: #FFFFFF;\n",
              "      --disabled-bg-color: #3B4455;\n",
              "      --disabled-fill-color: #666;\n",
              "  }\n",
              "\n",
              "  .colab-df-quickchart {\n",
              "    background-color: var(--bg-color);\n",
              "    border: none;\n",
              "    border-radius: 50%;\n",
              "    cursor: pointer;\n",
              "    display: none;\n",
              "    fill: var(--fill-color);\n",
              "    height: 32px;\n",
              "    padding: 0;\n",
              "    width: 32px;\n",
              "  }\n",
              "\n",
              "  .colab-df-quickchart:hover {\n",
              "    background-color: var(--hover-bg-color);\n",
              "    box-shadow: 0 1px 2px rgba(60, 64, 67, 0.3), 0 1px 3px 1px rgba(60, 64, 67, 0.15);\n",
              "    fill: var(--button-hover-fill-color);\n",
              "  }\n",
              "\n",
              "  .colab-df-quickchart-complete:disabled,\n",
              "  .colab-df-quickchart-complete:disabled:hover {\n",
              "    background-color: var(--disabled-bg-color);\n",
              "    fill: var(--disabled-fill-color);\n",
              "    box-shadow: none;\n",
              "  }\n",
              "\n",
              "  .colab-df-spinner {\n",
              "    border: 2px solid var(--fill-color);\n",
              "    border-color: transparent;\n",
              "    border-bottom-color: var(--fill-color);\n",
              "    animation:\n",
              "      spin 1s steps(1) infinite;\n",
              "  }\n",
              "\n",
              "  @keyframes spin {\n",
              "    0% {\n",
              "      border-color: transparent;\n",
              "      border-bottom-color: var(--fill-color);\n",
              "      border-left-color: var(--fill-color);\n",
              "    }\n",
              "    20% {\n",
              "      border-color: transparent;\n",
              "      border-left-color: var(--fill-color);\n",
              "      border-top-color: var(--fill-color);\n",
              "    }\n",
              "    30% {\n",
              "      border-color: transparent;\n",
              "      border-left-color: var(--fill-color);\n",
              "      border-top-color: var(--fill-color);\n",
              "      border-right-color: var(--fill-color);\n",
              "    }\n",
              "    40% {\n",
              "      border-color: transparent;\n",
              "      border-right-color: var(--fill-color);\n",
              "      border-top-color: var(--fill-color);\n",
              "    }\n",
              "    60% {\n",
              "      border-color: transparent;\n",
              "      border-right-color: var(--fill-color);\n",
              "    }\n",
              "    80% {\n",
              "      border-color: transparent;\n",
              "      border-right-color: var(--fill-color);\n",
              "      border-bottom-color: var(--fill-color);\n",
              "    }\n",
              "    90% {\n",
              "      border-color: transparent;\n",
              "      border-bottom-color: var(--fill-color);\n",
              "    }\n",
              "  }\n",
              "</style>\n",
              "\n",
              "  <script>\n",
              "    async function quickchart(key) {\n",
              "      const quickchartButtonEl =\n",
              "        document.querySelector('#' + key + ' button');\n",
              "      quickchartButtonEl.disabled = true;  // To prevent multiple clicks.\n",
              "      quickchartButtonEl.classList.add('colab-df-spinner');\n",
              "      try {\n",
              "        const charts = await google.colab.kernel.invokeFunction(\n",
              "            'suggestCharts', [key], {});\n",
              "      } catch (error) {\n",
              "        console.error('Error during call to suggestCharts:', error);\n",
              "      }\n",
              "      quickchartButtonEl.classList.remove('colab-df-spinner');\n",
              "      quickchartButtonEl.classList.add('colab-df-quickchart-complete');\n",
              "    }\n",
              "    (() => {\n",
              "      let quickchartButtonEl =\n",
              "        document.querySelector('#df-b089c507-a465-4a13-83f2-64ab1dcd317e button');\n",
              "      quickchartButtonEl.style.display =\n",
              "        google.colab.kernel.accessAllowed ? 'block' : 'none';\n",
              "    })();\n",
              "  </script>\n",
              "</div>\n",
              "    </div>\n",
              "  </div>\n"
            ]
          },
          "metadata": {},
          "execution_count": 45
        }
      ],
      "source": [
        "#Comparing Actual and predicted Values\n",
        "Result=pd.DataFrame({'Actual Values':y_test,'linear_Model':y_pred,'Random_Forest':y_pred1,'Xg_Boost':y_pred4})\n",
        "Result"
      ]
    },
    {
      "cell_type": "markdown",
      "id": "2b65f46c",
      "metadata": {
        "papermill": {
          "duration": 0.016429,
          "end_time": "2023-07-26T11:45:50.205122",
          "exception": false,
          "start_time": "2023-07-26T11:45:50.188693",
          "status": "completed"
        },
        "tags": [],
        "id": "2b65f46c"
      },
      "source": [
        "Here We can see that XG boost model is more efficient than Linear model.So we predict the price using **XG boost regressor** model."
      ]
    },
    {
      "cell_type": "code",
      "execution_count": null,
      "id": "efed7513",
      "metadata": {
        "execution": {
          "iopub.execute_input": "2023-07-26T11:45:50.240636Z",
          "iopub.status.busy": "2023-07-26T11:45:50.239638Z",
          "iopub.status.idle": "2023-07-26T11:45:50.248903Z",
          "shell.execute_reply": "2023-07-26T11:45:50.248138Z"
        },
        "papermill": {
          "duration": 0.029342,
          "end_time": "2023-07-26T11:45:50.251056",
          "exception": false,
          "start_time": "2023-07-26T11:45:50.221714",
          "status": "completed"
        },
        "tags": [],
        "colab": {
          "base_uri": "https://localhost:8080/"
        },
        "id": "efed7513",
        "outputId": "a1b64208-8b83-4324-8c11-625c21d7896d"
      },
      "outputs": [
        {
          "output_type": "execute_result",
          "data": {
            "text/plain": [
              "array([9393.382], dtype=float32)"
            ]
          },
          "metadata": {},
          "execution_count": 46
        }
      ],
      "source": [
        "y_new=xgb.predict(ms.transform([[4,2010,1,10,4,150,40,2]]))\n",
        "y_new"
      ]
    },
    {
      "cell_type": "code",
      "source": [
        "y_new=xgb.predict(ms.transform([[4,2025,1,10,4,150,40,2]]))\n",
        "y_new"
      ],
      "metadata": {
        "colab": {
          "base_uri": "https://localhost:8080/"
        },
        "id": "C3oIiWPe_xdB",
        "outputId": "52b305e3-3ef1-4b8c-a6c8-7e1a5878b6b0"
      },
      "id": "C3oIiWPe_xdB",
      "execution_count": null,
      "outputs": [
        {
          "output_type": "execute_result",
          "data": {
            "text/plain": [
              "array([22868.488], dtype=float32)"
            ]
          },
          "metadata": {},
          "execution_count": 47
        }
      ]
    }
  ],
  "metadata": {
    "kernelspec": {
      "display_name": "Python 3",
      "language": "python",
      "name": "python3"
    },
    "language_info": {
      "codemirror_mode": {
        "name": "ipython",
        "version": 3
      },
      "file_extension": ".py",
      "mimetype": "text/x-python",
      "name": "python",
      "nbconvert_exporter": "python",
      "pygments_lexer": "ipython3",
      "version": "3.10.10"
    },
    "papermill": {
      "default_parameters": {},
      "duration": 23.461041,
      "end_time": "2023-07-26T11:45:51.192922",
      "environment_variables": {},
      "exception": null,
      "input_path": "__notebook__.ipynb",
      "output_path": "__notebook__.ipynb",
      "parameters": {},
      "start_time": "2023-07-26T11:45:27.731881",
      "version": "2.4.0"
    },
    "colab": {
      "provenance": []
    }
  },
  "nbformat": 4,
  "nbformat_minor": 5
}